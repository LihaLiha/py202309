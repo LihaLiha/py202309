{
 "cells": [
  {
   "cell_type": "code",
   "execution_count": 2,
   "id": "45e677a7",
   "metadata": {},
   "outputs": [
    {
     "name": "stdout",
     "output_type": "stream",
     "text": [
      "** Start Lotto **\n",
      "Number:  1 13 22 25 33 35 "
     ]
    }
   ],
   "source": [
    "import random\n",
    "\n",
    "# 랜덤으로 1 ~ 45의 수를 뽑는 함수\n",
    "def get_number():\n",
    "    return random.randrange(1, 45)\n",
    "\n",
    "# 번호를 저장하기 위한 리스트\n",
    "lotto = []\n",
    "\n",
    "\n",
    "num = 0\n",
    "print(\"** Start Lotto **\")\n",
    "\n",
    "\n",
    "# 랜덤숫자 6개를 뽑기위한 반복문\n",
    "while True:\n",
    "    num = get_number()\n",
    "    \n",
    "    if lotto.count(num) == 0:    # 랜덤으로 생성된 수가 lotto 리스트에 없으면 리스트에 저장 \n",
    "        lotto.append(num)\n",
    "    \n",
    "    if len(lotto) >= 6:    # 6개를 뽑으면 중단\n",
    "        break\n",
    "\n",
    "# 리스트를 오름차순으로 정렬하고 출력\n",
    "print(\"Number: \", end = ' ')\n",
    "lotto.sort()\n",
    "for number in lotto:\n",
    "    print(number, end = ' ')\n",
    "    "
   ]
  },
  {
   "cell_type": "code",
   "execution_count": null,
   "id": "2dcee441",
   "metadata": {},
   "outputs": [],
   "source": []
  }
 ],
 "metadata": {
  "kernelspec": {
   "display_name": "Python 3 (ipykernel)",
   "language": "python",
   "name": "python3"
  },
  "language_info": {
   "codemirror_mode": {
    "name": "ipython",
    "version": 3
   },
   "file_extension": ".py",
   "mimetype": "text/x-python",
   "name": "python",
   "nbconvert_exporter": "python",
   "pygments_lexer": "ipython3",
   "version": "3.9.7"
  }
 },
 "nbformat": 4,
 "nbformat_minor": 5
}
