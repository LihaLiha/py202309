{
 "cells": [
  {
   "cell_type": "code",
   "execution_count": 1,
   "id": "6271a96e",
   "metadata": {},
   "outputs": [
    {
     "name": "stdout",
     "output_type": "stream",
     "text": [
      "** Start Lotto **\n",
      "Number:  5 7 18 28 29 43 "
     ]
    }
   ],
   "source": [
    "import random # 랜덤 함수 가져오기\n",
    "\n",
    "\n",
    "\n",
    "def get_number():\n",
    "    return random.randrange(1, 46)  # 랜덤으로 범위는 1 ~ 46\n",
    "\n",
    "\n",
    "lotto = [] \n",
    "num = 0\n",
    "print(\"** Start Lotto **\")\n",
    "\n",
    "# 6개의 숫자가 나올때까지 반복\n",
    "while True:\n",
    "    num = get_number()\n",
    "    \n",
    "    if lotto.count(num) == 0:\n",
    "        lotto.append(num)\n",
    "        \n",
    "    if len(lotto) >= 6:\n",
    "        break\n",
    "      \n",
    " # 랜덤 숫자 출력\n",
    "print(\"Number: \", end = ' ')\n",
    "lotto.sort()\n",
    "for number in lotto:\n",
    "    print(number, end=' ')"
   ]
  },
  {
   "cell_type": "code",
   "execution_count": null,
   "id": "40f02e7c",
   "metadata": {},
   "outputs": [],
   "source": []
  }
 ],
 "metadata": {
  "kernelspec": {
   "display_name": "Python 3 (ipykernel)",
   "language": "python",
   "name": "python3"
  },
  "language_info": {
   "codemirror_mode": {
    "name": "ipython",
    "version": 3
   },
   "file_extension": ".py",
   "mimetype": "text/x-python",
   "name": "python",
   "nbconvert_exporter": "python",
   "pygments_lexer": "ipython3",
   "version": "3.9.7"
  }
 },
 "nbformat": 4,
 "nbformat_minor": 5
}
