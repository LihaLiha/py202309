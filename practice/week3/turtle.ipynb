{
 "cells": [
  {
   "cell_type": "code",
   "execution_count": 2,
   "id": "a6ab2632",
   "metadata": {},
   "outputs": [
    {
     "name": "stdout",
     "output_type": "stream",
     "text": [
      "turtle bye!\n"
     ]
    }
   ],
   "source": [
    "import turtle\n",
    "\n",
    "t = turtle.Turtle()\n",
    "\n",
    "t.left(90)\n",
    "\n",
    "# 단어 빈도 리스트 생성 \n",
    "word_freq = {\"apple\": 5, \"banana\": 8, \"cherry\": 2, \"grape\": 1}\n",
    "\n",
    "# x 위치 설정\n",
    "x = -200\n",
    "for word, freq in word_freq.items():\n",
    "    t.penup()\n",
    "    t.goto(x,0)\n",
    "    \n",
    "    # 단어 빈도 출력\n",
    "    t.write(f\"{word}: {freq}\", font=(\"Arial\", 12, \"normal\"))\n",
    "    \n",
    "    # 빈도를 기준으로 선 그리기\n",
    "    t.goto(x, 30)\n",
    "    t.pendown()\n",
    "    t.forward(freq * 10)  # freq 길이의 선 그리기\n",
    "    \n",
    "    x += 100  # 다음 위치 설정 \n",
    "    \n",
    "turtle.done()\n",
    "\n",
    "try:\n",
    "    turtle.bye()\n",
    "except:\n",
    "    print(\"turtle bye!\")\n"
   ]
  },
  {
   "cell_type": "code",
   "execution_count": null,
   "id": "6cec4dd1",
   "metadata": {},
   "outputs": [],
   "source": []
  }
 ],
 "metadata": {
  "kernelspec": {
   "display_name": "Python 3 (ipykernel)",
   "language": "python",
   "name": "python3"
  },
  "language_info": {
   "codemirror_mode": {
    "name": "ipython",
    "version": 3
   },
   "file_extension": ".py",
   "mimetype": "text/x-python",
   "name": "python",
   "nbconvert_exporter": "python",
   "pygments_lexer": "ipython3",
   "version": "3.9.7"
  }
 },
 "nbformat": 4,
 "nbformat_minor": 5
}
