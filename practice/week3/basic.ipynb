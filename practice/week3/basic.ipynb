{
 "cells": [
  {
   "cell_type": "code",
   "execution_count": 1,
   "id": "9338f0bc",
   "metadata": {},
   "outputs": [
    {
     "name": "stdout",
     "output_type": "stream",
     "text": [
      "bye\n"
     ]
    }
   ],
   "source": [
    "import turtle\n",
    "\n",
    "# turtle 객체 생성\n",
    "t = turtle.Turtle()\n",
    "\n",
    "# (원 그리기, 앞으로 이동) 3회 반복\n",
    "t.circle(100)\n",
    "t.fd(20)\n",
    "t.circle(100)\n",
    "t.fd(20)\n",
    "t.circle(100)\n",
    "t.fd(20)\n",
    "\n",
    "turtle.done()\n",
    "\n",
    "# Turtle 종료\n",
    "try:\n",
    "    turtle.bye()\n",
    "except:\n",
    "    print(\"bye\")"
   ]
  },
  {
   "cell_type": "code",
   "execution_count": 1,
   "id": "5a83bf9c",
   "metadata": {},
   "outputs": [
    {
     "name": "stdout",
     "output_type": "stream",
     "text": [
      "bye\n"
     ]
    }
   ],
   "source": [
    "import turtle\n",
    "\n",
    "# turtle 객체 생성\n",
    "t = turtle.Turtle()\n",
    "\n",
    "# 반지름, 이동 할 거리 변수\n",
    "radius = 100\n",
    "move = 20\n",
    "\n",
    "# (원 그리기, 앞으로 이동) 3회 반복\n",
    "t.circle(radius)\n",
    "t.fd(move)\n",
    "t.circle(radius)\n",
    "t.fd(move)\n",
    "t.circle(radius)\n",
    "t.fd(move)\n",
    "\n",
    "turtle.done()\n",
    "\n",
    "# Turtle 종료시\n",
    "try:\n",
    "    turtle.bye()\n",
    "except:\n",
    "    print(\"bye\")\n"
   ]
  },
  {
   "cell_type": "code",
   "execution_count": 2,
   "id": "0452f3a6",
   "metadata": {},
   "outputs": [
    {
     "name": "stdout",
     "output_type": "stream",
     "text": [
      "turtle bye!\n"
     ]
    }
   ],
   "source": [
    "import turtle\n",
    "\n",
    "# turtle 객체 생성\n",
    "t = turtle.Turtle()\n",
    "\n",
    "# 리스트, 변수 생성\n",
    "radius_list = [100, 200, 50]\n",
    "move = 20\n",
    "\n",
    "t.shape(\"turtle\")\n",
    "\n",
    "# i가 0부터 radius_list의 길이랑 같아질 때까지 명령 반복\n",
    "for i in range(0, len(radius_list)):\n",
    "    radius = radius_list[i]\n",
    "    t.circle(radius)\n",
    "    t.fd(move)\n",
    "    \n",
    "turtle.done()\n",
    "\n",
    "# Turtle 종료시\n",
    "try:\n",
    "    turtle.bye()\n",
    "except:\n",
    "    print(\"turtle bye!\")\n",
    "    "
   ]
  },
  {
   "cell_type": "code",
   "execution_count": null,
   "id": "1b4382cb",
   "metadata": {},
   "outputs": [],
   "source": []
  }
 ],
 "metadata": {
  "kernelspec": {
   "display_name": "Python 3 (ipykernel)",
   "language": "python",
   "name": "python3"
  },
  "language_info": {
   "codemirror_mode": {
    "name": "ipython",
    "version": 3
   },
   "file_extension": ".py",
   "mimetype": "text/x-python",
   "name": "python",
   "nbconvert_exporter": "python",
   "pygments_lexer": "ipython3",
   "version": "3.9.7"
  }
 },
 "nbformat": 4,
 "nbformat_minor": 5
}
