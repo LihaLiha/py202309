{
 "cells": [
  {
   "cell_type": "code",
   "execution_count": 7,
   "id": "40dd38a8",
   "metadata": {},
   "outputs": [
    {
     "name": "stdout",
     "output_type": "stream",
     "text": [
      "What do you call a bear ith no teeth? \n",
      " A gummy bear!\n"
     ]
    }
   ],
   "source": [
    "# 한 문장씩 출력\n",
    "print(\"What do you call a bear ith no teeth? \\n A gummy bear!\")"
   ]
  },
  {
   "cell_type": "code",
   "execution_count": 6,
   "id": "efb24336",
   "metadata": {
    "scrolled": true
   },
   "outputs": [
    {
     "name": "stdout",
     "output_type": "stream",
     "text": [
      "Enter your name: liha\n",
      "Hello liha\n"
     ]
    }
   ],
   "source": [
    "# 이름 입력\n",
    "name = input(\"Enter your name: \")\n",
    "\n",
    "# 인사와 이름 출력\n",
    "print(\"Hello\", name)"
   ]
  },
  {
   "cell_type": "code",
   "execution_count": 4,
   "id": "1ce6c6a5",
   "metadata": {
    "scrolled": true
   },
   "outputs": [
    {
     "name": "stdout",
     "output_type": "stream",
     "text": [
      "Enter your name: aa\n",
      "Enter your last name: ss\n",
      "Hello aa ss\n"
     ]
    }
   ],
   "source": [
    "# 이름 입력\n",
    "name = input(\"Enter your name: \")\n",
    "# 성 입력\n",
    "lastName = input(\"Enter your last name: \")\n",
    "# 인사 , 이름, 성 출력\n",
    "print(\"Hello\", name, lastName)"
   ]
  },
  {
   "cell_type": "code",
   "execution_count": 10,
   "id": "89a66b5b",
   "metadata": {},
   "outputs": [
    {
     "name": "stdout",
     "output_type": "stream",
     "text": [
      "Enter the first number24\n",
      "Enter the second number43\n",
      "24 + 43 = 2443\n"
     ]
    }
   ],
   "source": [
    "# 변수 입력받기\n",
    "firstNo = input(\"Enter the first number: \")\n",
    "secondNo = input(\"Enter the second number: \")\n",
    "\n",
    "# 변수 더하기\n",
    "addNo = (firstNo + secondNo)\n",
    "\n",
    "# 결과 값 출력\n",
    "print(firstNo, \"+\", secondNo, \"=\", addNo)"
   ]
  },
  {
   "cell_type": "code",
   "execution_count": 18,
   "id": "86b5de92",
   "metadata": {},
   "outputs": [
    {
     "name": "stdout",
     "output_type": "stream",
     "text": [
      "Enter the first number: 1\n",
      "Enter the second number: 2\n",
      "Enter the third number: 3\n",
      "1\n"
     ]
    }
   ],
   "source": [
    "# 변수 입력받기\n",
    "firstNo = int(input(\"Enter the first number: \"))\n",
    "secondNo = int(input(\"Enter the second number: \"))\n",
    "thirdNo = int(input(\"Enter the third number: \"))\n",
    "\n",
    "# 연산\n",
    "result1 = firstNo + secondNo * thirdNo\n",
    "result2 = (firstNo + secondNo) * thirdNo\n",
    "\n",
    "# 결과 값 출력\n",
    "print(firstNo, \"+\")\n",
    "\n"
   ]
  },
  {
   "cell_type": "code",
   "execution_count": null,
   "id": "4f456905",
   "metadata": {},
   "outputs": [],
   "source": []
  }
 ],
 "metadata": {
  "kernelspec": {
   "display_name": "Python 3 (ipykernel)",
   "language": "python",
   "name": "python3"
  },
  "language_info": {
   "codemirror_mode": {
    "name": "ipython",
    "version": 3
   },
   "file_extension": ".py",
   "mimetype": "text/x-python",
   "name": "python",
   "nbconvert_exporter": "python",
   "pygments_lexer": "ipython3",
   "version": "3.9.7"
  }
 },
 "nbformat": 4,
 "nbformat_minor": 5
}
