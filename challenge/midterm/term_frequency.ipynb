{
 "cells": [
  {
   "cell_type": "code",
   "execution_count": 1,
   "id": "f3aa3eb6",
   "metadata": {},
   "outputs": [
    {
     "ename": "IndentationError",
     "evalue": "expected an indented block (Temp/ipykernel_10084/3290376965.py, line 16)",
     "output_type": "error",
     "traceback": [
      "\u001b[1;36m  File \u001b[1;32m\"C:\\Users\\LIHALIHA\\AppData\\Local\\Temp/ipykernel_10084/3290376965.py\"\u001b[1;36m, line \u001b[1;32m16\u001b[0m\n\u001b[1;33m    total_terms = set()\u001b[0m\n\u001b[1;37m    ^\u001b[0m\n\u001b[1;31mIndentationError\u001b[0m\u001b[1;31m:\u001b[0m expected an indented block\n"
     ]
    }
   ],
   "source": [
    "import operator\n",
    "\n",
    "sentences = [\n",
    "    \"The quick brown fox jumps over the lazy dog.\",\n",
    "    \"A journey of a thousand miles begins with a single step.\",\n",
    "    \"All that glitters is not gold.\",    \n",
    "    \"In the middle of difficulty lies opportunity.\",\n",
    "    \"She likes to read books.\"\n",
    "]\n",
    "\n",
    "# 문장 토큰화\n",
    "def preprocess(sentence):\n",
    "    return sentence.lower().split() # 소문자로 변환, 공백을 기준으로 분할\n",
    "\n",
    "def sort_dict(d):    # 딕셔너리를 값에 따라 내림차순으로 정렬 \n",
    "    return dict(sorted(d.items(), key=operator.itemgetter(1), reverse = True))\n",
    "\n",
    "total_terms = set()\n",
    "\n",
    "# TODO 1: 토큰 집합 만들기\n",
    "for sentence in sentences:\n",
    "    tokens = preprocess(sentence)\n",
    "    total_terms.update(tokens)\n",
    "    \n",
    "\n",
    "term_frequency_dict = {} # 토큰 별 단어 빈도를 저장할 딕셔너리\n",
    "\n",
    "# TODO 2: 토큰 별 단어 빈도를 딕셔너리에 저장\n",
    "\n",
    "for sentence in sentences:\n",
    "    tokens = preprocess(sentence)\n",
    "    for token in tokens:\n",
    "        if token not in term_frequency_dict:\n",
    "            term_frequency_dict[token] = 1\n",
    "        else:\n",
    "            term_frequency_dict[token] += 1\n",
    "\n",
    "\n",
    "\n",
    "# 토큰 빈도 출력\n",
    "print(\"-----TF dictionary-----\")\n",
    "sorted_tf_dict = sort_dict(term_frequency_dict)\n",
    "for term, frequency in sorted_tf_dict.items():\n",
    "    print(f\"{term}: {frequency}\")\n",
    "\n",
    "print(\"-----Top-3 TF terms-----\")\n",
    "\n",
    "# TODO 3: Top-3 토큰 빈도를 갖는 단어의 순위, 단어, 빈도 출력 코드 작성\n",
    "top_terms = list(sorted_tf_dict.items())[:3]\n",
    "for rank, (term, frequency) in enumerate(top_terms, 1):\n",
    "    print(f\"Rank {rank}: {term}, Frequency: {frequency}\")"
   ]
  },
  {
   "cell_type": "code",
   "execution_count": null,
   "id": "3f6b834b",
   "metadata": {},
   "outputs": [],
   "source": []
  }
 ],
 "metadata": {
  "kernelspec": {
   "display_name": "Python 3 (ipykernel)",
   "language": "python",
   "name": "python3"
  },
  "language_info": {
   "codemirror_mode": {
    "name": "ipython",
    "version": 3
   },
   "file_extension": ".py",
   "mimetype": "text/x-python",
   "name": "python",
   "nbconvert_exporter": "python",
   "pygments_lexer": "ipython3",
   "version": "3.9.7"
  }
 },
 "nbformat": 4,
 "nbformat_minor": 5
}
