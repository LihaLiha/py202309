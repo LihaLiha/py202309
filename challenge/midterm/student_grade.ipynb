{
 "cells": [
  {
   "cell_type": "code",
   "execution_count": null,
   "id": "41a303bc",
   "metadata": {},
   "outputs": [],
   "source": []
  },
  {
   "cell_type": "code",
   "execution_count": 20,
   "id": "f30033ab",
   "metadata": {
    "scrolled": true
   },
   "outputs": [
    {
     "name": "stdout",
     "output_type": "stream",
     "text": [
      "실바의 평균 점수는 73.66666666666667 입니다.\n",
      "산토스의 평균 점수는 86.93333333333334 입니다.\n",
      "맥그리거의 평균 점수는 85.7 입니다.\n",
      "알도의 평균 점수는 85.43333333333332 입니다.\n",
      "로우지의 평균 점수는 83.10000000000001 입니다.\n",
      "누네스의 평균 점수는 85.93333333333334 입니다.\n"
     ]
    }
   ],
   "source": [
    "import csv\n",
    "\n",
    "# csv의 학생 성적을 딕셔너리에 저장하는 함수\n",
    "def loadData(file_path):\n",
    "    student_dict = {}\n",
    "    with open(file_path, \"r\", encoding=\"utf8\") as fp:\n",
    "        csv_reader = csv.reader(fp)\n",
    "        \n",
    "        # 첫 번째 행은 과목 이름이므로 무시\n",
    "        next(csv_reader)\n",
    "        \n",
    "        for row in csv_reader:\n",
    "            student_name = row[0]\n",
    "            scores = list(map(float, row[1:]))\n",
    "            average_score = sum(scores) / len(scores)\n",
    "            student_dict[student_name] = {'scores': scores, 'average_score': average_score}\n",
    "\n",
    "    return student_dict  # 학생 정보가 저장된 딕셔너리 반환\n",
    "\n",
    "# 학생 별 성적의 평균 점수를 계산하는 함수\n",
    "def getAverage(score_list):\n",
    "    return sum(score_list) / len(score_list)\n",
    "\n",
    "file_path = \"student.csv\"\n",
    "students_data = loadData(file_path)\n",
    "\n",
    "# 각 학생의 평균 점수 출력\n",
    "for student, info in students_data.items():\n",
    "    average = getAverage(info['scores'])\n",
    "    print(f\"{student}의 평균 점수는 {average} 입니다.\")\n",
    "\n"
   ]
  },
  {
   "cell_type": "code",
   "execution_count": null,
   "id": "9bab06ea",
   "metadata": {},
   "outputs": [],
   "source": []
  }
 ],
 "metadata": {
  "kernelspec": {
   "display_name": "Python 3 (ipykernel)",
   "language": "python",
   "name": "python3"
  },
  "language_info": {
   "codemirror_mode": {
    "name": "ipython",
    "version": 3
   },
   "file_extension": ".py",
   "mimetype": "text/x-python",
   "name": "python",
   "nbconvert_exporter": "python",
   "pygments_lexer": "ipython3",
   "version": "3.9.7"
  }
 },
 "nbformat": 4,
 "nbformat_minor": 5
}
