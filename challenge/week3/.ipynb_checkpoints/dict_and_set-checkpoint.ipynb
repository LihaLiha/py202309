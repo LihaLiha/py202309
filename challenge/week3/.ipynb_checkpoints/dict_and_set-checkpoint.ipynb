{
 "cells": [
  {
   "cell_type": "code",
   "execution_count": 6,
   "id": "f6659227",
   "metadata": {},
   "outputs": [
    {
     "name": "stdout",
     "output_type": "stream",
     "text": [
      "Enter English numer ranging from 1 to 5: two\n",
      "two is 이\n"
     ]
    }
   ],
   "source": [
    "# 리스트 생성\n",
    "num_dict = {\"one\":\"일\", \"two\":\"이\", \"three\":\"삼\", \"four\":\"사\", \"five\":\"오\"}\n",
    "\n",
    "# 1~5 숫자 영어로 입력 받기\n",
    "num = input(\"Enter English numer ranging from 1 to 5: \")\n",
    "\n",
    "# 그 외 입력시 \"Wrong input\" 출력\n",
    "if num not in num_dict:\n",
    "    print(\"Wrong input\")\n",
    "    \n",
    "# 숫자를 한글로 출력\n",
    "else:\n",
    "    print(num, \"is\", num_dict[num])"
   ]
  },
  {
   "cell_type": "code",
   "execution_count": 24,
   "id": "cbf6e3f3",
   "metadata": {
    "scrolled": true
   },
   "outputs": [
    {
     "name": "stdout",
     "output_type": "stream",
     "text": [
      "Name: Moving  / average:  4.0\n",
      "Name: Mask Girl  / average:  3.6666666666666665\n",
      "Name: Oppenheimer  / average:  3.3333333333333335\n"
     ]
    }
   ],
   "source": [
    "# 리스트 생성\n",
    "ratings = {\"Moving\": {\"Misoo\":4, \"Kwon\":3, \"Soo\": 5},\\\n",
    "          \"Mask Girl\": {\"Misoo\":3, \"Kwon\":4, \"Soo\": 4},\\\n",
    "          \"Oppenheimer\": {\"Misoo\":3, \"Kwon\":3, \"Soo\": 4}}\n",
    "\n",
    "# 리스트에서 이름 가져오기\n",
    "movie_names = list(ratings.keys())\n",
    "\n",
    "# 영화 이름, 평균 점수 출력\n",
    "score_list = list(ratings[movie_names[0]].values())\n",
    "print(\"Name:\", movie_names[0], \" / average: \", sum(score_list)/len(score_list))\n",
    "score_list = list(ratings[movie_names[1]].values())\n",
    "print(\"Name:\", movie_names[1], \" / average: \", sum(score_list)/len(score_list))\n",
    "score_list = list(ratings[movie_names[2]].values())\n",
    "print(\"Name:\", movie_names[2], \" / average: \", sum(score_list)/len(score_list))\n"
   ]
  },
  {
   "cell_type": "code",
   "execution_count": 1,
   "id": "ddb7ffd1",
   "metadata": {},
   "outputs": [
    {
     "ename": "KeyboardInterrupt",
     "evalue": "Interrupted by user",
     "output_type": "error",
     "traceback": [
      "\u001b[1;31m---------------------------------------------------------------------------\u001b[0m",
      "\u001b[1;31mKeyboardInterrupt\u001b[0m                         Traceback (most recent call last)",
      "\u001b[1;32m~\\AppData\\Local\\Temp/ipykernel_2008/4063980215.py\u001b[0m in \u001b[0;36m<module>\u001b[1;34m\u001b[0m\n\u001b[0;32m      4\u001b[0m \u001b[1;33m\u001b[0m\u001b[0m\n\u001b[0;32m      5\u001b[0m \u001b[1;31m# 유저1의 친구 이름 입력받기\u001b[0m\u001b[1;33m\u001b[0m\u001b[1;33m\u001b[0m\u001b[0m\n\u001b[1;32m----> 6\u001b[1;33m \u001b[0muser1_friend\u001b[0m\u001b[1;33m.\u001b[0m\u001b[0madd\u001b[0m\u001b[1;33m(\u001b[0m\u001b[0minput\u001b[0m\u001b[1;33m(\u001b[0m\u001b[1;34m\"Enter user1's 1st friend name: \"\u001b[0m\u001b[1;33m)\u001b[0m\u001b[1;33m)\u001b[0m\u001b[1;33m\u001b[0m\u001b[1;33m\u001b[0m\u001b[0m\n\u001b[0m\u001b[0;32m      7\u001b[0m \u001b[0muser1_friend\u001b[0m\u001b[1;33m.\u001b[0m\u001b[0madd\u001b[0m\u001b[1;33m(\u001b[0m\u001b[0minput\u001b[0m\u001b[1;33m(\u001b[0m\u001b[1;34m\"Enter user1's 2nd friend name: \"\u001b[0m\u001b[1;33m)\u001b[0m\u001b[1;33m)\u001b[0m\u001b[1;33m\u001b[0m\u001b[1;33m\u001b[0m\u001b[0m\n\u001b[0;32m      8\u001b[0m \u001b[0muser1_friend\u001b[0m\u001b[1;33m.\u001b[0m\u001b[0madd\u001b[0m\u001b[1;33m(\u001b[0m\u001b[0minput\u001b[0m\u001b[1;33m(\u001b[0m\u001b[1;34m\"Enter user1's 3rd friend name: \"\u001b[0m\u001b[1;33m)\u001b[0m\u001b[1;33m)\u001b[0m\u001b[1;33m\u001b[0m\u001b[1;33m\u001b[0m\u001b[0m\n",
      "\u001b[1;32m~\\anaconda3\\lib\\site-packages\\ipykernel\\kernelbase.py\u001b[0m in \u001b[0;36mraw_input\u001b[1;34m(self, prompt)\u001b[0m\n\u001b[0;32m   1004\u001b[0m                 \u001b[1;34m\"raw_input was called, but this frontend does not support input requests.\"\u001b[0m\u001b[1;33m\u001b[0m\u001b[1;33m\u001b[0m\u001b[0m\n\u001b[0;32m   1005\u001b[0m             )\n\u001b[1;32m-> 1006\u001b[1;33m         return self._input_request(\n\u001b[0m\u001b[0;32m   1007\u001b[0m             \u001b[0mstr\u001b[0m\u001b[1;33m(\u001b[0m\u001b[0mprompt\u001b[0m\u001b[1;33m)\u001b[0m\u001b[1;33m,\u001b[0m\u001b[1;33m\u001b[0m\u001b[1;33m\u001b[0m\u001b[0m\n\u001b[0;32m   1008\u001b[0m             \u001b[0mself\u001b[0m\u001b[1;33m.\u001b[0m\u001b[0m_parent_ident\u001b[0m\u001b[1;33m[\u001b[0m\u001b[1;34m\"shell\"\u001b[0m\u001b[1;33m]\u001b[0m\u001b[1;33m,\u001b[0m\u001b[1;33m\u001b[0m\u001b[1;33m\u001b[0m\u001b[0m\n",
      "\u001b[1;32m~\\anaconda3\\lib\\site-packages\\ipykernel\\kernelbase.py\u001b[0m in \u001b[0;36m_input_request\u001b[1;34m(self, prompt, ident, parent, password)\u001b[0m\n\u001b[0;32m   1049\u001b[0m             \u001b[1;32mexcept\u001b[0m \u001b[0mKeyboardInterrupt\u001b[0m\u001b[1;33m:\u001b[0m\u001b[1;33m\u001b[0m\u001b[1;33m\u001b[0m\u001b[0m\n\u001b[0;32m   1050\u001b[0m                 \u001b[1;31m# re-raise KeyboardInterrupt, to truncate traceback\u001b[0m\u001b[1;33m\u001b[0m\u001b[1;33m\u001b[0m\u001b[0m\n\u001b[1;32m-> 1051\u001b[1;33m                 \u001b[1;32mraise\u001b[0m \u001b[0mKeyboardInterrupt\u001b[0m\u001b[1;33m(\u001b[0m\u001b[1;34m\"Interrupted by user\"\u001b[0m\u001b[1;33m)\u001b[0m \u001b[1;32mfrom\u001b[0m \u001b[1;32mNone\u001b[0m\u001b[1;33m\u001b[0m\u001b[1;33m\u001b[0m\u001b[0m\n\u001b[0m\u001b[0;32m   1052\u001b[0m             \u001b[1;32mexcept\u001b[0m \u001b[0mException\u001b[0m\u001b[1;33m:\u001b[0m\u001b[1;33m\u001b[0m\u001b[1;33m\u001b[0m\u001b[0m\n\u001b[0;32m   1053\u001b[0m                 \u001b[0mself\u001b[0m\u001b[1;33m.\u001b[0m\u001b[0mlog\u001b[0m\u001b[1;33m.\u001b[0m\u001b[0mwarning\u001b[0m\u001b[1;33m(\u001b[0m\u001b[1;34m\"Invalid Message:\"\u001b[0m\u001b[1;33m,\u001b[0m \u001b[0mexc_info\u001b[0m\u001b[1;33m=\u001b[0m\u001b[1;32mTrue\u001b[0m\u001b[1;33m)\u001b[0m\u001b[1;33m\u001b[0m\u001b[1;33m\u001b[0m\u001b[0m\n",
      "\u001b[1;31mKeyboardInterrupt\u001b[0m: Interrupted by user"
     ]
    }
   ],
   "source": [
    "# 친구 이름을 저장하기 위한 집합\n",
    "user1_friend = set()\n",
    "user2_friend = set()\n",
    "\n",
    "# 유저1의 친구 이름 입력받기\n",
    "user1_friend.add(input(\"Enter user1's 1st friend name: \"))\n",
    "user1_friend.add(input(\"Enter user1's 2nd friend name: \"))\n",
    "user1_friend.add(input(\"Enter user1's 3rd friend name: \"))\n",
    "\n",
    "# 유저2의 친구 이름 입력받기\n",
    "user2_friend.add(input(\"Enter user2's 1st friend name: \"))\n",
    "user2_friend.add(input(\"Enter user2's 2nd friend name: \"))\n",
    "user2_friend.add(input(\"Enter user2's 3rd friend name: \"))\n",
    "\n",
    "# 두 집합을 통합해 출력하기\n",
    "integrated_set = user1_friend | user2_friend\n",
    "print(\"All friends: \", *integrated_set)\n"
   ]
  },
  {
   "cell_type": "code",
   "execution_count": null,
   "id": "b825265b",
   "metadata": {},
   "outputs": [],
   "source": []
  },
  {
   "cell_type": "code",
   "execution_count": null,
   "id": "f2a55b1a",
   "metadata": {},
   "outputs": [],
   "source": []
  }
 ],
 "metadata": {
  "kernelspec": {
   "display_name": "Python 3 (ipykernel)",
   "language": "python",
   "name": "python3"
  },
  "language_info": {
   "codemirror_mode": {
    "name": "ipython",
    "version": 3
   },
   "file_extension": ".py",
   "mimetype": "text/x-python",
   "name": "python",
   "nbconvert_exporter": "python",
   "pygments_lexer": "ipython3",
   "version": "3.9.7"
  }
 },
 "nbformat": 4,
 "nbformat_minor": 5
}
