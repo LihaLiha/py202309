{
 "cells": [
  {
   "cell_type": "code",
   "execution_count": 6,
   "id": "f6659227",
   "metadata": {},
   "outputs": [
    {
     "name": "stdout",
     "output_type": "stream",
     "text": [
      "Enter English numer ranging from 1 to 5: two\n",
      "two is 이\n"
     ]
    }
   ],
   "source": [
    "# 리스트 생성\n",
    "num_dict = {\"one\":\"일\", \"two\":\"이\", \"three\":\"삼\", \"four\":\"사\", \"five\":\"오\"}\n",
    "\n",
    "# 1~5 숫자 영어로 입력 받기\n",
    "num = input(\"Enter English numer ranging from 1 to 5: \")\n",
    "\n",
    "# 그 외 입력시 \"Wrong input\" 출력\n",
    "if num not in num_dict:\n",
    "    print(\"Wrong input\")\n",
    "    \n",
    "# 숫자를 한글로 출력\n",
    "else:\n",
    "    print(num, \"is\", num_dict[num])"
   ]
  },
  {
   "cell_type": "code",
   "execution_count": 24,
   "id": "cbf6e3f3",
   "metadata": {
    "scrolled": true
   },
   "outputs": [
    {
     "name": "stdout",
     "output_type": "stream",
     "text": [
      "Name: Moving  / average:  4.0\n",
      "Name: Mask Girl  / average:  3.6666666666666665\n",
      "Name: Oppenheimer  / average:  3.3333333333333335\n"
     ]
    }
   ],
   "source": [
    "# 리스트 생성\n",
    "ratings = {\"Moving\": {\"Misoo\":4, \"Kwon\":3, \"Soo\": 5},\\\n",
    "          \"Mask Girl\": {\"Misoo\":3, \"Kwon\":4, \"Soo\": 4},\\\n",
    "          \"Oppenheimer\": {\"Misoo\":3, \"Kwon\":3, \"Soo\": 4}}\n",
    "\n",
    "# 리스트에서 이름 가져오기\n",
    "movie_names = list(ratings.keys())\n",
    "\n",
    "# 영화 이름, 평균 점수 출력\n",
    "score_list = list(ratings[movie_names[0]].values())\n",
    "print(\"Name:\", movie_names[0], \" / average: \", sum(score_list)/len(score_list))\n",
    "score_list = list(ratings[movie_names[1]].values())\n",
    "print(\"Name:\", movie_names[1], \" / average: \", sum(score_list)/len(score_list))\n",
    "score_list = list(ratings[movie_names[2]].values())\n",
    "print(\"Name:\", movie_names[2], \" / average: \", sum(score_list)/len(score_list))\n"
   ]
  },
  {
   "cell_type": "code",
   "execution_count": 43,
   "id": "ddb7ffd1",
   "metadata": {},
   "outputs": [
    {
     "name": "stdout",
     "output_type": "stream",
     "text": [
      "\n",
      "All friends:  {'동수', '영희', '영수', '철희', '철수'}\n"
     ]
    }
   ],
   "source": [
    "Afriend = {\"철수\", \"영수\", \"영희\"}\n",
    "Bfriend = {\"철희\", \"영수\", \"동수\"}\n",
    "print\n",
    "print(\"All friends: \", Afriend | Bfriend)"
   ]
  },
  {
   "cell_type": "code",
   "execution_count": null,
   "id": "b825265b",
   "metadata": {},
   "outputs": [],
   "source": []
  },
  {
   "cell_type": "code",
   "execution_count": null,
   "id": "f2a55b1a",
   "metadata": {},
   "outputs": [],
   "source": []
  }
 ],
 "metadata": {
  "kernelspec": {
   "display_name": "Python 3 (ipykernel)",
   "language": "python",
   "name": "python3"
  },
  "language_info": {
   "codemirror_mode": {
    "name": "ipython",
    "version": 3
   },
   "file_extension": ".py",
   "mimetype": "text/x-python",
   "name": "python",
   "nbconvert_exporter": "python",
   "pygments_lexer": "ipython3",
   "version": "3.9.7"
  }
 },
 "nbformat": 4,
 "nbformat_minor": 5
}
