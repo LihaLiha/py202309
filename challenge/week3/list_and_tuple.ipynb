{
 "cells": [
  {
   "cell_type": "code",
   "execution_count": null,
   "id": "d31b5356",
   "metadata": {},
   "outputs": [],
   "source": [
    "# 5개의 숫자 입력받기\n",
    "num1 = int(input(\"Enter 1st number: \"))\n",
    "num2 = int(input(\"Enter 2nd number: \"))\n",
    "num3 = int(input(\"Enter 3rd number: \"))\n",
    "num4 = int(input(\"Enter 4th number: \"))\n",
    "num5 = int(input(\"Enter 5th number: \"))\n",
    "\n",
    "# 입력받은 숫자를 저장한 리스트\n",
    "num_list = [num1, num2, num3, num4, num5]\n",
    "\n",
    "# 리스트를 사용해 각 정보를 출력\n",
    "print(\"max: \", max(num_list))\n",
    "print(\"min: \", min(num_list))\n",
    "print(\"average: \", sum(num_list)/len(num_list))"
   ]
  },
  {
   "cell_type": "code",
   "execution_count": null,
   "id": "dda99587",
   "metadata": {},
   "outputs": [],
   "source": [
    "# 가수 이름이 저장된 리스트\n",
    "singer_list = [\"Black Pink\", \"BTS\"]\n",
    "\n",
    "# 사용자에게 가수를 입력 받아 리스트에 저장\n",
    "user_singer = input(\"What is your favorite singer?\")\n",
    "singer_list.append(user_singer)\n",
    "\n",
    "# 리스트에 가수 이름을 정렬하여 출력\n",
    "singer_list.sort()\n",
    "print(singer_list)"
   ]
  },
  {
   "cell_type": "code",
   "execution_count": 4,
   "id": "4b9dee3a",
   "metadata": {},
   "outputs": [
    {
     "name": "stdout",
     "output_type": "stream",
     "text": [
      "('tennis', 'football', 'baseball', 'basketball', 'golf')\n",
      "\n",
      "Please enter onr of the sport name from above: football\n",
      "football has index number:  1\n",
      "\n",
      "Enter a number between 0 and 4: 2\n",
      "baseball\n"
     ]
    }
   ],
   "source": [
    "# 운동 종목이 들어있는 튜플\n",
    "sports_tuple = (\"tennis\", \"football\", \"baseball\", \"basketball\", \"golf\")\n",
    "\n",
    "print(sports_tuple)\n",
    "print()\n",
    "\n",
    "# 사용자에게 출력된 종목 중 하나를 입력 받기\n",
    "sport_name = input(\"Please enter onr of the sport name from above: \")\n",
    "\n",
    "# 입력 받은 종목의 튜플 인덱스 출력\n",
    "print(sport_name, \"has index number: \", sports_tuple.index(sport_name))\n",
    "print()\n",
    "\n",
    "# 0부터 튜플 사이즈 -1 의 숫자 입력 받기 (인덱스)\n",
    "sport_num = int(input(\"Enter a number between 0 and 4: \"))\n",
    "\n",
    "# 입력받은 인덱스에 해당하는 종목 출력\n",
    "print(sports_tuple[sport_num])"
   ]
  },
  {
   "cell_type": "code",
   "execution_count": null,
   "id": "c0de3623",
   "metadata": {},
   "outputs": [
    {
     "name": "stdout",
     "output_type": "stream",
     "text": [
      "menu: Americano, Caffe Latte, Caffe Mocha, Iced Tea\n"
     ]
    }
   ],
   "source": [
    "# 카페 메뉴 4가지 출력 (문자열 대소문자 구분)\n",
    "print(\"menu: Americano, Caffe Latte, Caffe Mocha, Iced Tea\")\n",
    "\n",
    "# 어제 판매한 5개의 메뉴를 저장하는 리스트\n",
    "yesterday_list = []\n",
    "\n",
    "# 어제 판매한 5개의 메뉴 입력 받기\n",
    "yesterday_list.append(input(\"Enter the 1st item sold yesterday: \"))\n",
    "yesterday_list.append(input(\"Enter the 2nd item sold yesterday: \"))\n",
    "yesterday_list.append(input(\"Enter the 3rd item sold yesterday: \"))\n",
    "yesterday_list.append(input(\"Enter the 4th item sold yesterday: \"))\n",
    "yesterday_list.append(input(\"Enter the 5th item sold yesterday: \"))\n",
    "\n",
    "# 오늘 판매한 5개의 메뉴를 저장하는 리스트\n",
    "today_list = []\n",
    "\n",
    "# 오늘 판매한 5개의 메뉴 입력 받기\n",
    "today_list.append(input(\"Enter the 1st item sold today: \"))\n",
    "today_list.append(input(\"Enter the 2nd item sold today: \"))\n",
    "today_list.append(input(\"Enter the 3rd item sold today: \"))\n",
    "today_list.append(input(\"Enter the 4th item sold today: \"))\n",
    "today_list.append(input(\"Enter the 5th item sold today: \"))\n",
    "\n",
    "# 어제 판매한 메뉴와 오늘 판매한 메뉴 출력 (리스트)\n",
    "print(\"Yesterday sales: \", *yesterday_list)\n",
    "print(\"Today sales: \", *today_list)\n",
    "\n",
    "# 두 리스트를 \"union_list\"로 통합\n",
    "union_list = yesterday_list + today_list\n",
    "\n",
    "# 통합한 리스트를 출력 (모든 판매 메뉴)\n",
    "print(\"Total sales: \", *union_list)\n",
    "\n",
    "# \"Americano\"의 판매 개수 출력\n",
    "print(\"Americano sales: \", union_list.count(\"Americano\"))\n"
   ]
  },
  {
   "cell_type": "code",
   "execution_count": null,
   "id": "e2b192dc",
   "metadata": {},
   "outputs": [],
   "source": []
  }
 ],
 "metadata": {
  "kernelspec": {
   "display_name": "Python 3 (ipykernel)",
   "language": "python",
   "name": "python3"
  },
  "language_info": {
   "codemirror_mode": {
    "name": "ipython",
    "version": 3
   },
   "file_extension": ".py",
   "mimetype": "text/x-python",
   "name": "python",
   "nbconvert_exporter": "python",
   "pygments_lexer": "ipython3",
   "version": "3.9.7"
  }
 },
 "nbformat": 4,
 "nbformat_minor": 5
}
