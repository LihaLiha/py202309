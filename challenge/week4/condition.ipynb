{
 "cells": [
  {
   "cell_type": "code",
   "execution_count": 5,
   "id": "d28ccb7d",
   "metadata": {},
   "outputs": [
    {
     "name": "stdout",
     "output_type": "stream",
     "text": [
      "Is it raining? (Y / N)n\n",
      "Is it windy? (Y / N)n\n",
      "Have a nice day\n"
     ]
    }
   ],
   "source": [
    "rain = input(\"Is it raining? (Y / N)\")\n",
    "windy = input(\"Is it windy? (Y / N)\")\n",
    "\n",
    "if rain == 'y' :\n",
    "    if windy == 'y':\n",
    "        print(\"It is too windy for an umbrella.\")\n",
    "    elif windy == 'n':\n",
    "        print(\"Take an umbrella.\")\n",
    "    else:\n",
    "        print(\"Increect input.\")\n",
    "        \n",
    "elif rain == 'n' :\n",
    "    if windy == 'y':\n",
    "        print(\"Please take a coat.\")\n",
    "    elif windy == 'n':\n",
    "        print(\"Have a nice day\")\n",
    "    else:\n",
    "         print(\"Increect input.\")\n",
    "\n",
    "else:\n",
    "     print(\"Increect input.\")"
   ]
  },
  {
   "cell_type": "code",
   "execution_count": null,
   "id": "7abc8529",
   "metadata": {},
   "outputs": [],
   "source": []
  },
  {
   "cell_type": "code",
   "execution_count": null,
   "id": "e9c2bc5c",
   "metadata": {},
   "outputs": [],
   "source": []
  }
 ],
 "metadata": {
  "kernelspec": {
   "display_name": "Python 3 (ipykernel)",
   "language": "python",
   "name": "python3"
  },
  "language_info": {
   "codemirror_mode": {
    "name": "ipython",
    "version": 3
   },
   "file_extension": ".py",
   "mimetype": "text/x-python",
   "name": "python",
   "nbconvert_exporter": "python",
   "pygments_lexer": "ipython3",
   "version": "3.9.7"
  }
 },
 "nbformat": 4,
 "nbformat_minor": 5
}
