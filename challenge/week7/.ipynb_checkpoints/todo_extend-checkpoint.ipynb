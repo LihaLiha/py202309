{
 "cells": [
  {
   "cell_type": "code",
   "execution_count": 17,
   "id": "cdcabfec",
   "metadata": {},
   "outputs": [
    {
     "name": "stdout",
     "output_type": "stream",
     "text": [
      "파일이 존재하지 않습니다.\n"
     ]
    }
   ],
   "source": [
    "def add_task(task_list, task):\n",
    "    task_list.append(task) # 리스트 생성\n",
    "\n",
    "def display_tasks(task_list):  # 리스트 확인\n",
    "    if not task_list: \n",
    "        print(\"할일 목록이 비어 있습니다.\")\n",
    "    else:\n",
    "        print(\"할일 목록: \")\n",
    "        for i in range(len(task_list)):\n",
    "            task = task_list[i]\n",
    "            print(f\"{i+1}. {task}\")\n",
    "\n",
    "def save_tasks_to_file(task_list, filename): # 리스트 저장\n",
    "    write_fp = open(filename, 'w', encoding = \"utf-8\")\n",
    "    for task in task_list:\n",
    "        write_fp.write(task + \"\\n\")\n",
    "    write_fp.close()\n",
    "\n",
    "def load_tasks_from_file(filename): # 리스트 불러오기\n",
    "    task_list = []\n",
    "    read_fp = open(filename, 'r', encoding = \"utf-8\")\n",
    "    lines = read_fp.readlines()\n",
    "    for line in lines:\n",
    "        task_list.append(line.strip())\n",
    "    return task_list\n",
    "        \n",
    "while True:   \n",
    "    try: # 파일이 존재하는지 확인\n",
    "        file_name = \"tasks.txt\"\n",
    "        task_list = load_tasks_from_file(file_name)\n",
    "\n",
    "        while True: # 파일이 존재할 경우\n",
    "            print(\"\\n할일 관리 프로그램\")\n",
    "            print(\"1. 할일 추가\")\n",
    "            print(\"2. 할일 목록 표시\")\n",
    "            print(\"3. 종료\")\n",
    "            \n",
    "            # 번호 선택\n",
    "            choice = input(\"선택: \")\n",
    "            \n",
    "            \n",
    "            # 각 번호 선택 시 메뉴\n",
    "            if choice == '1' :\n",
    "                task = input(\"할일을 입력하세요: \")\n",
    "                add_task(task_list, task)\n",
    "                print(\"할일이 추가되었습니다.\")\n",
    "                \n",
    "            elif choice == '2' :\n",
    "                display_tasks(task_list)\n",
    "                \n",
    "            elif choice == '3' :\n",
    "                save_tasks_to_file(task_list, file_name)\n",
    "                print(\"프로그램을 종료합니다.\")\n",
    "                break\n",
    "                \n",
    "            else: # (1 ~ 3외 입력시)\n",
    "                print(\"잘못된 선택입니다. 다시 시도하세요.\")\n",
    "                \n",
    "    except: # 파일이 존재하지 않는 경우\n",
    "        print(\"파일이 존재하지 않습니다.\")\n",
    "        break"
   ]
  },
  {
   "cell_type": "code",
   "execution_count": null,
   "id": "9dae13bf",
   "metadata": {},
   "outputs": [],
   "source": []
  }
 ],
 "metadata": {
  "kernelspec": {
   "display_name": "Python 3 (ipykernel)",
   "language": "python",
   "name": "python3"
  },
  "language_info": {
   "codemirror_mode": {
    "name": "ipython",
    "version": 3
   },
   "file_extension": ".py",
   "mimetype": "text/x-python",
   "name": "python",
   "nbconvert_exporter": "python",
   "pygments_lexer": "ipython3",
   "version": "3.9.7"
  }
 },
 "nbformat": 4,
 "nbformat_minor": 5
}
