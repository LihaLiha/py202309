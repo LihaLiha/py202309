{
 "cells": [
  {
   "cell_type": "code",
   "execution_count": null,
   "id": "5d6fb660",
   "metadata": {},
   "outputs": [
    {
     "name": "stdout",
     "output_type": "stream",
     "text": [
      "\n",
      "할 일 관리 프로그램\n",
      "1. 할 일 추가\n",
      "2. 할 일 목록 표시\n",
      "3. 종료\n",
      "선택: 2\n",
      "할 일 목록이 비어있습니다.\n",
      "\n",
      "할 일 관리 프로그램\n",
      "1. 할 일 추가\n",
      "2. 할 일 목록 표시\n",
      "3. 종료\n"
     ]
    }
   ],
   "source": [
    "# 할 일 목록을 추가하는 함수\n",
    "def add_task(task_list, task):\n",
    "    task_list.append(task)\n",
    "    \n",
    "# 할 일 목록을 출력하는 함수\n",
    "def display_tasks(task_list):\n",
    "    if not task_list:\n",
    "        print(\"할 일 목록이 비어있습니다.\")\n",
    "    else:\n",
    "        print(\"할 일 목록: \")\n",
    "        for i in range(len(task_list)):\n",
    "            task = task_list[i]\n",
    "            print(f\"{i+1}. {task}\")\n",
    "            \n",
    "# 할 일 목록(task_list)의 task들을 \"task.txt\"파일에 작성하는 함수\n",
    "def save_tasks_to_file(task_list, filename):\n",
    "    write_fp = open(filename, 'w', encoding=\"utf8\")\n",
    "    for task in task_list:\n",
    "        write_fp.write(task+\"\\n\")\n",
    "    write_fp.close()\n",
    "    \n",
    "\n",
    "# 파일(task.txt)로부터 task들을 읽어서 task_list로 불러오는 함수\n",
    "def load_tasks_from_file(filename):\n",
    "    task_list = []\n",
    "    read_fp = open(filename, 'r', encoding=\"utf8\")\n",
    "    lines = read_fp.readlines()        # 오픈 한 파일 리스트로 반환\n",
    "    for line in lines:                 \n",
    "        task_list.append(line.strip()) # 파일의 task들을 리스트에 저장\n",
    "    return task_list\n",
    "\n",
    "# 파일을 읽어서 task_list로 불러오기\n",
    "task_list = load_tasks_from_file('task.txt')\n",
    "\n",
    "\n",
    "# 메뉴 출력 후 번호 입력 받기 (1 ~ 3)\n",
    "while True:\n",
    "    print(\"\\n할 일 관리 프로그램\")\n",
    "    print(\"1. 할 일 추가\")\n",
    "    print(\"2. 할 일 목록 표시\")\n",
    "    print(\"3. 종료\")\n",
    "    \n",
    "    choice = input(\"선택: \")\n",
    "    \n",
    "    # 입력 받은 번호에 따라 해당 기능 실행\n",
    "    if choice == '1':\n",
    "        task = input(\"할 일을 입력하세요: \")\n",
    "        add_task(task_list, task)\n",
    "        print(\"할 일이 추가되었습니다.\")\n",
    "    elif choice == '2':\n",
    "        display_tasks(task_list)\n",
    "    elif choice == '3':\n",
    "        save_tasks_to_file(task_list, 'task.txt')\n",
    "        print(\"프로그램을 종료합니다.\")\n",
    "        break\n",
    "    else:\n",
    "        print(\"잘못된 선택입니다. 다시 시도하세요.\")\n",
    "        "
   ]
  },
  {
   "cell_type": "code",
   "execution_count": null,
   "id": "f519ca74",
   "metadata": {},
   "outputs": [],
   "source": []
  }
 ],
 "metadata": {
  "kernelspec": {
   "display_name": "Python 3 (ipykernel)",
   "language": "python",
   "name": "python3"
  },
  "language_info": {
   "codemirror_mode": {
    "name": "ipython",
    "version": 3
   },
   "file_extension": ".py",
   "mimetype": "text/x-python",
   "name": "python",
   "nbconvert_exporter": "python",
   "pygments_lexer": "ipython3",
   "version": "3.9.7"
  }
 },
 "nbformat": 4,
 "nbformat_minor": 5
}
